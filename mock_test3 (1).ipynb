{
  "nbformat": 4,
  "nbformat_minor": 0,
  "metadata": {
    "colab": {
      "provenance": []
    },
    "kernelspec": {
      "name": "python3",
      "display_name": "Python 3"
    },
    "language_info": {
      "name": "python"
    }
  },
  "cells": [
    {
      "cell_type": "markdown",
      "source": [
        "Implement a queue using a list in Python. Include the necessary methods such as enqueue, dequeue, and isEmpty."
      ],
      "metadata": {
        "id": "c3-PjmQRTT7L"
      }
    },
    {
      "cell_type": "code",
      "source": [
        "# Initializing a queue\n",
        "queue = []\n",
        "\n",
        "# Adding elements to the queue\n",
        "queue.append('a')\n",
        "queue.append('b')\n",
        "queue.append('c')\n",
        "\n",
        "print(\"Initial queue\")\n",
        "print(queue)\n",
        "\n",
        "# Removing elements from the queue\n",
        "print(\"\\nElements dequeued from queue\")\n",
        "print(queue.pop(0))\n",
        "print(queue.pop(0))\n",
        "print(queue.pop(0))\n",
        "\n",
        "print(\"\\nQueue after removing elements\")\n",
        "print(queue)"
      ],
      "metadata": {
        "colab": {
          "base_uri": "https://localhost:8080/"
        },
        "id": "cUEXOYenTwnT",
        "outputId": "e633680b-f6ed-413b-af9f-1b15a6e5c6d5"
      },
      "execution_count": 3,
      "outputs": [
        {
          "output_type": "stream",
          "name": "stdout",
          "text": [
            "Initial queue\n",
            "['a', 'b', 'c']\n",
            "\n",
            "Elements dequeued from queue\n",
            "a\n",
            "b\n",
            "c\n",
            "\n",
            "Queue after removing elements\n",
            "[]\n"
          ]
        }
      ]
    }
  ]
}